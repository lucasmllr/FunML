{
 "cells": [
  {
   "cell_type": "markdown",
   "metadata": {},
   "source": [
    "# Exercise 1"
   ]
  },
  {
   "cell_type": "code",
   "execution_count": 39,
   "metadata": {
    "collapsed": true
   },
   "outputs": [],
   "source": [
    "import numpy as np\n",
    "import pylab as plt\n",
    "%matplotlib inline"
   ]
  },
  {
   "cell_type": "markdown",
   "metadata": {},
   "source": [
    "## 1.1 data creation"
   ]
  },
  {
   "cell_type": "markdown",
   "metadata": {},
   "source": [
    "Given the likelihoods, priors and the fact that the data desities sum up to one, one can derive the posteriors. The cumulative distributions (cdf) result from integrating the posteriors. To perform inverse sampling the cdfs are inverted and for each data point a cdf value is derived from a unifor distribution which is then used to find the corresponding feature.\n",
    "Wheather the data point is to be of class zero or one is sampled from a uniform distribution with value 0.5."
   ]
  },
  {
   "cell_type": "code",
   "execution_count": 168,
   "metadata": {
    "collapsed": false
   },
   "outputs": [],
   "source": [
    "def createData(N):\n",
    "    #sampling a label and a cdf value\n",
    "    classLabels = np.random.uniform(0, 1, N)\n",
    "    cumulatives = np.random.uniform(0, 1, N)\n",
    "    #initializing data points\n",
    "    y = np.zeros(N)\n",
    "    x = np.zeros(N)\n",
    "    #deriving the feature for a randomly sampled label\n",
    "    for i in range(N):\n",
    "        if classLabels[i] > 0.5: #label is one\n",
    "            y[i] = 1\n",
    "            x[i] = np.sqrt(cumulatives[i])\n",
    "        else: #y is zero and already initialized as such\n",
    "            x[i] = 1 - np.sqrt(1 - cumulatives[i])\n",
    "    return x, y\n",
    "\n",
    "features, labels = createData(20)\n",
    "#meanOfOnes = features[labels==1].mean()\n",
    "#meanOfZeros = features[labels==0].mean()\n",
    "#print(meanOfOnes)\n",
    "#print(meanOfZeros)\n",
    "#plt.scatter(features, labels)\n",
    "#plt.show()"
   ]
  },
  {
   "cell_type": "markdown",
   "metadata": {},
   "source": [
    "## 1.2 classification by thresholding"
   ]
  },
  {
   "cell_type": "code",
   "execution_count": 54,
   "metadata": {
    "collapsed": false
   },
   "outputs": [],
   "source": [
    "#function to classify an array of features according to the given rules\n",
    "def classify(rule, threshold, features):\n",
    "    classifications = np.zeros(len(features))\n",
    "    for i in range(len(features)):\n",
    "        if rule == 'A':\n",
    "            if features[i] > threshold:\n",
    "                classifications[i] = 1\n",
    "        if rule == 'B':\n",
    "            if features[i] <= threshold:\n",
    "                classifications[i] = 1\n",
    "    return classifications\n",
    "        \n",
    "#functino to determine the error rate of the classify function given an array of labels and one \n",
    "#containing the true labels\n",
    "def errorRate(rule, threshold, features, labels):\n",
    "    #classify data set according to rule\n",
    "    classifications = classify(rule, threshold, features)\n",
    "    #determine error\n",
    "    mistakes = 0\n",
    "    for i in range(len(features)):\n",
    "        if labels[i] != classifications[i]:\n",
    "            mistakes += 1\n",
    "    return mistakes/len(features) "
   ]
  },
  {
   "cell_type": "code",
   "execution_count": 158,
   "metadata": {
    "collapsed": true
   },
   "outputs": [],
   "source": [
    "#function to perform a classification experiment from generated data given a single threshold,\n",
    "#the size of the data sets to be created and the number of repetitions.\n",
    "#It returns the average error and standard deviation of the number of repetitions as well as the\n",
    "#used threshold.\n",
    "def experiment(threshold, size, repetitions, rule):\n",
    "    errors = np.empty(repetitions)\n",
    "    for rep in range(repetitions):\n",
    "        #generate data\n",
    "        features, labels = createData(size)\n",
    "        errors[rep] = errorRate(rule, threshold, features, labels)\n",
    "    meanErr = np.mean(errors)\n",
    "    std = np.std(errors)\n",
    "    return meanErr, std, threshold\n",
    "    \n",
    "\n",
    "#function to perform a series of experiments taking an array of thresholds, one of the sizes\n",
    "#and the number of repetitions in each experiment as input. It returns a numpy array with\n",
    "#dimensions threshold, size, experiments. Additionally it returns the innput array of thresholds\n",
    "#and sizes as well as the used rule\n",
    "def test(thresholds, sizes, repetitions, rule):\n",
    "    experiments = np.empty((len(thresholds), len(sizes), 3))\n",
    "    for i, t in enumerate(thresholds):\n",
    "        for j, M in enumerate(sizes):\n",
    "            meanErr, std, threshold = experiment(t, M, repetitions, rule)\n",
    "            experiments[i, j, 0] = meanErr\n",
    "            experiments[i, j, 1] = std\n",
    "            experiments[i, j, 2] = t\n",
    "    return experiments, thresholds, sizes, rule"
   ]
  },
  {
   "cell_type": "code",
   "execution_count": 159,
   "metadata": {
    "collapsed": false
   },
   "outputs": [],
   "source": [
    "#function to plot the evolution of the mean error's standard deviation as a function of data set\n",
    "#size for each threshold in a series of experiments performed by the test function.\n",
    "def plotStds(test):\n",
    "    x = test[2]\n",
    "    f, axes = plt.subplots(1, len(test[1]))\n",
    "    for i in range(len(test[1])):\n",
    "        y = []\n",
    "        for j in range(len(test[2])):\n",
    "            y.append(test[0][i, j, 1])\n",
    "        axes[i].plot(x, y)\n",
    "        axes[i].set_ylim([np.min(y), np.max(y)])\n",
    "        axes[i].set_title(test[1][i])\n",
    "    plt.tight_layout()\n",
    "    plt.show()\n",
    "    return    "
   ]
  },
  {
   "cell_type": "code",
   "execution_count": 183,
   "metadata": {
    "collapsed": false
   },
   "outputs": [],
   "source": [
    "#function to plot the mean error of a all experiemnts in a set generated by the test function.\n",
    "#Different data set sizes are not explicitily marked. Next to the experimental errors the\n",
    "#the theoretical expectacion is plotted (not a fit!)\n",
    "def plotErr(test):\n",
    "    thresholds = test[1]\n",
    "    sizes = test[2]\n",
    "    rule = test[3]\n",
    "    errTheo = np.empty(100)\n",
    "    t = np.linspace(0, 1, 100)\n",
    "    errReal = []\n",
    "    tReal = []\n",
    "    for i in range(len(thresholds)):\n",
    "        for j in range(len(test[2])):\n",
    "            errReal.append(test[0][i, j, 0])\n",
    "            tReal.append(test[0][i, j, 2])\n",
    "    if rule == 'A':\n",
    "        errTheo = 1/4 + (t - 1/2)**2\n",
    "    else:\n",
    "        errTheo = 3/4 - (t - 1/2)**2\n",
    "    #print(errReal, tReal)\n",
    "    plt.title('Rule ' + rule + ' errors')\n",
    "    plt.xlabel('threshold')\n",
    "    plt.ylabel('mean error rate')\n",
    "    plt.plot(t, errTheo)\n",
    "    plt.scatter(tReal, errReal)\n",
    "    plt.show()\n",
    "    return"
   ]
  },
  {
   "cell_type": "markdown",
   "metadata": {},
   "source": [
    "### Rule A\n",
    "\n",
    "The test results are also printed. Columns are: average error, error's standard deviation and threshold from left to right. Lines are size of test sets as in the input (first dimenstion) and thresholds (second dimension)."
   ]
  },
  {
   "cell_type": "code",
   "execution_count": 184,
   "metadata": {
    "collapsed": false
   },
   "outputs": [
    {
     "name": "stdout",
     "output_type": "stream",
     "text": [
      "[[[ 0.401       0.03176476  0.1       ]\n",
      "  [ 0.414       0.0143248   0.1       ]\n",
      "  [ 0.40977     0.00489634  0.1       ]]\n",
      "\n",
      " [[ 0.253       0.03001666  0.3       ]\n",
      "  [ 0.2913      0.01179873  0.3       ]\n",
      "  [ 0.28985     0.00355956  0.3       ]]\n",
      "\n",
      " [[ 0.256       0.06216108  0.5       ]\n",
      "  [ 0.2536      0.01154296  0.5       ]\n",
      "  [ 0.2487      0.00311288  0.5       ]]\n",
      "\n",
      " [[ 0.289       0.03726929  0.7       ]\n",
      "  [ 0.287       0.0121326   0.7       ]\n",
      "  [ 0.28975     0.00304212  0.7       ]]\n",
      "\n",
      " [[ 0.414       0.04363485  0.9       ]\n",
      "  [ 0.4027      0.01195031  0.9       ]\n",
      "  [ 0.40865     0.00335894  0.9       ]]]\n"
     ]
    },
    {
     "data": {
      "image/png": "[encoded data removed]",
      "text/plain": [
       "<matplotlib.figure.Figure at 0x10e085080>"
      ]
     },
     "metadata": {},
     "output_type": "display_data"
    }
   ],
   "source": [
    "testA = test([0.1, 0.3, 0.5, 0.7, 0.9], [100, 1000, 10000], 10, 'A')\n",
    "print(testA[0])\n",
    "plotStds(testA)"
   ]
  },
  {
   "cell_type": "code",
   "execution_count": 185,
   "metadata": {
    "collapsed": false
   },
   "outputs": [
    {
     "data": {
      "image/png": "[encoded data removed]",
      "text/plain": [
       "<matplotlib.figure.Figure at 0x10eb8ee80>"
      ]
     },
     "metadata": {},
     "output_type": "display_data"
    }
   ],
   "source": [
    "plotErr(testA)"
   ]
  },
  {
   "cell_type": "markdown",
   "metadata": {},
   "source": [
    "### Rule B"
   ]
  },
  {
   "cell_type": "code",
   "execution_count": 186,
   "metadata": {
    "collapsed": false
   },
   "outputs": [
    {
     "name": "stdout",
     "output_type": "stream",
     "text": [
      "[[[ 0.401       0.03176476  0.1       ]\n",
      "  [ 0.414       0.0143248   0.1       ]\n",
      "  [ 0.40977     0.00489634  0.1       ]]\n",
      "\n",
      " [[ 0.253       0.03001666  0.3       ]\n",
      "  [ 0.2913      0.01179873  0.3       ]\n",
      "  [ 0.28985     0.00355956  0.3       ]]\n",
      "\n",
      " [[ 0.256       0.06216108  0.5       ]\n",
      "  [ 0.2536      0.01154296  0.5       ]\n",
      "  [ 0.2487      0.00311288  0.5       ]]\n",
      "\n",
      " [[ 0.289       0.03726929  0.7       ]\n",
      "  [ 0.287       0.0121326   0.7       ]\n",
      "  [ 0.28975     0.00304212  0.7       ]]\n",
      "\n",
      " [[ 0.414       0.04363485  0.9       ]\n",
      "  [ 0.4027      0.01195031  0.9       ]\n",
      "  [ 0.40865     0.00335894  0.9       ]]]\n"
     ]
    },
    {
     "data": {
      "image/png": "[encoded data removed]",
      "text/plain": [
       "<matplotlib.figure.Figure at 0x10dfd09b0>"
      ]
     },
     "metadata": {},
     "output_type": "display_data"
    }
   ],
   "source": [
    "testB = test([0.1, 0.3, 0.5, 0.7, 0.9], [100, 1000, 10000], 10, 'B')\n",
    "print(testA[0])\n",
    "plotStds(testB)"
   ]
  },
  {
   "cell_type": "code",
   "execution_count": 187,
   "metadata": {
    "collapsed": false
   },
   "outputs": [
    {
     "data": {
      "image/png": "[encoded data removed]",
      "text/plain": [
       "<matplotlib.figure.Figure at 0x10dfb8470>"
      ]
     },
     "metadata": {},
     "output_type": "display_data"
    }
   ],
   "source": [
    "plotErr(testB)"
   ]
  },
  {
   "cell_type": "markdown",
   "metadata": {},
   "source": [
    "## 1.3 NN Classifier"
   ]
  },
  {
   "cell_type": "code",
   "execution_count": 188,
   "metadata": {
    "collapsed": false
   },
   "outputs": [
    {
     "name": "stdout",
     "output_type": "stream",
     "text": [
      "Average NN classification error: 0.365426\n"
     ]
    }
   ],
   "source": [
    "#function to a two instance (always one per class) training set by inverse sampling. \n",
    "def nnTS():\n",
    "    y = np.array([0,1])\n",
    "    cumulatives = np.random.uniform(0, 1, 2)\n",
    "    x = np.array([1 - np.sqrt(1 - cumulatives[0]), np.sqrt(cumulatives[1])])\n",
    "    return [x, y]\n",
    "    \n",
    "#function to classify the features given in varset according to the given trainset usnig a\n",
    "#nearest neighbour classification\n",
    "def nnClassify(varset, trainset):\n",
    "    guesses = np.empty(len(varset[0]))\n",
    "    for i in range(len(varset[0])):\n",
    "        #measuring and comparing distances to the two training instances\n",
    "        d0 = np.absolute(trainset[0][0] - varset[0][i])\n",
    "        d1 = np.absolute(trainset[0][1] - varset[0][i])\n",
    "        if d0 <= d1: guesses[i] = 0\n",
    "        else: guesses[i] = 1\n",
    "    return guesses\n",
    "\n",
    "#function to determine the error rate of a classification using nnClassify given a data set's\n",
    "#true labels and a classification\n",
    "def nnErr(varset, guesses):\n",
    "    mistakes = 0\n",
    "    for i in range(len(varset[1])):\n",
    "        if varset[1][i] != guesses[i]:\n",
    "            mistakes += 1\n",
    "    return mistakes/len(varset[1])\n",
    "\n",
    "#function performing a given number of NN classifications and determining the average error rate\n",
    "#given also the size of the data sets to be generated.\n",
    "def testNNClassify(numberTS, varSetSize):\n",
    "    errors = np.empty(numberTS)\n",
    "    varSet = createData(varSetSize)\n",
    "    for i in range(numberTS):\n",
    "        TS = nnTS()\n",
    "        guesses = nnClassify(varSet, TS)\n",
    "        errors[i] = nnErr(varSet, guesses)\n",
    "    return np.mean(errors)\n",
    "\n",
    "print('Average NN classification error:', testNNClassify(100, 10000))"
   ]
  },
  {
   "cell_type": "code",
   "execution_count": null,
   "metadata": {
    "collapsed": true
   },
   "outputs": [],
   "source": []
  },
  {
   "cell_type": "code",
   "execution_count": null,
   "metadata": {
    "collapsed": true
   },
   "outputs": [],
   "source": []
  }
 ],
 "metadata": {
  "kernelspec": {
   "display_name": "Python 3",
   "language": "python",
   "name": "python3"
  },
  "language_info": {
   "codemirror_mode": {
    "name": "ipython",
    "version": 3
   },
   "file_extension": ".py",
   "mimetype": "text/x-python",
   "name": "python",
   "nbconvert_exporter": "python",
   "pygments_lexer": "ipython3",
   "version": "3.4.5"
  }
 },
 "nbformat": 4,
 "nbformat_minor": 2
}
