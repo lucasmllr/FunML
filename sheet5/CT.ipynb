{
 "cells": [
  {
   "cell_type": "code",
   "execution_count": 61,
   "metadata": {
    "collapsed": true
   },
   "outputs": [],
   "source": [
    "import numpy as np\n",
    "import pylab as plt"
   ]
  },
  {
   "cell_type": "code",
   "execution_count": 62,
   "metadata": {},
   "outputs": [
    {
     "name": "stdout",
     "output_type": "stream",
     "text": [
      "[-89 -87 -85 -83 -81 -79 -77 -75 -73 -71 -69 -67 -65 -63 -61 -59 -57 -55\n -53 -51 -49 -47 -45 -43 -41 -39 -37 -35 -33 -31 -29 -27 -25 -23 -21 -19\n -17 -15 -13 -11  -9  -7  -5  -3  -1   1   3   5   7   9  11  13  15  17\n  19  21  23  25  27  29  31  33  35  37  39  41  43  45  47  49  51  53\n  55  57  59  61  63  65  67  69  71  73  75  77  79  81  83  85  87  89]\n"
     ]
    }
   ],
   "source": [
    "angles = np.load('hs_tomography/alphas_77.npy')\n",
    "print(angles)"
   ]
  },
  {
   "cell_type": "code",
   "execution_count": 85,
   "metadata": {},
   "outputs": [],
   "source": [
    "def orientation_mat(angles, offset=90):\n",
    "    zero_angle = offset / 360 * 2 * np.pi\n",
    "    or_mat = np.empty((len(angles), 2))\n",
    "    for i, angle in enumerate(angles):\n",
    "        cos = np.cos(angle/360*2*np.pi + zero_angle)\n",
    "        sin = np.sin(angle/360*2*np.pi + zero_angle)\n",
    "        norm = np.sqrt(cos**2 + sin**2)\n",
    "        or_mat[i, 0] = cos / norm\n",
    "        or_mat[i, 1] = sin / norm\n",
    "    return or_mat"
   ]
  },
  {
   "cell_type": "code",
   "execution_count": 86,
   "metadata": {},
   "outputs": [],
   "source": [
    "def pixel_coordinates(im_size):\n",
    "    x, y = np.mgrid[0:im_size[0], 0:im_size[1]]\n",
    "    x = x - 0.5*im_size[0]\n",
    "    y = y - 0.5*im_size[1]\n",
    "    x = np.expand_dims(x, 2)\n",
    "    y = np.expand_dims(y, 2)\n",
    "    coordinates = np.concatenate((x, y), axis=2)\n",
    "    coordinates.shape = (im_size[0]*im_size[1], 2)\n",
    "    coordinates = coordinates.T\n",
    "    return coordinates"
   ]
  },
  {
   "cell_type": "code",
   "execution_count": 109,
   "metadata": {},
   "outputs": [
    {
     "data": {
      "image/png": "[encoded data removed]",
      "text/plain": [
       "<matplotlib.figure.Figure at 0x10b281940>"
      ]
     },
     "metadata": {},
     "output_type": "display_data"
    },
    {
     "data": {
      "image/png": "[encoded data removed]",
      "text/plain": [
       "<matplotlib.figure.Figure at 0x110bb6160>"
      ]
     },
     "metadata": {},
     "output_type": "display_data"
    },
    {
     "name": "stdout",
     "output_type": "stream",
     "text": [
      "[[False  True  True ...,  True  True  True]\n [False False False ...,  True  True  True]\n [ True False False ...,  True  True  True]\n ..., \n [ True  True  True ...,  True  True  True]\n [ True  True  True ...,  True  True  True]\n [ True  True  True ...,  True  True  True]]\n"
     ]
    },
    {
     "data": {
      "image/png": "[encoded data removed]",
      "text/plain": [
       "<matplotlib.figure.Figure at 0x10a8b6a20>"
      ]
     },
     "metadata": {},
     "output_type": "display_data"
    },
    {
     "data": {
      "image/png": "[encoded data removed]",
      "text/plain": [
       "<matplotlib.figure.Figure at 0x109b01550>"
      ]
     },
     "metadata": {},
     "output_type": "display_data"
    }
   ],
   "source": [
    "from scipy import sparse\n",
    "\n",
    "def construct_x(im_size, alphas, bins):\n",
    "    or_mat = orientation_mat(alphas, offset=90)\n",
    "    coordinates = pixel_coordinates(im_size)\n",
    "    det_len = np.sqrt(im_size[0]**2 + im_size[1]**2)\n",
    "    projections = np.dot(or_mat, coordinates) + det_len / 2\n",
    "    d = det_len / bins\n",
    "    proj_coord = projections / d\n",
    "    lower_bin = np.floor(proj_coord)\n",
    "    upper_weight = proj_coord - lower_bin\n",
    "    upper_bin = lower_bin + 1\n",
    "    upper_bin = np.clip(upper_bin, 0, bins-1)\n",
    "    lower_weight = 1 - upper_weight\n",
    "    \n",
    "    weights = []\n",
    "    x_col = []\n",
    "    x_row = []\n",
    "    \n",
    "    #columns in projections\n",
    "    for i in range(projections.shape[1]):\n",
    "        #rows in projections\n",
    "        for j in range(projections.shape[0]):\n",
    "            #placing lower weight \n",
    "            weights.append(lower_weight[j, i])\n",
    "            x_col.append(i)\n",
    "            x_row.append(j * bins + lower_bin[j, i])\n",
    "            #placing upper weight\n",
    "            if upper_bin[j, i] < bins:\n",
    "                weights.append((upper_weight[j, i]))\n",
    "                x_col.append(i)\n",
    "                x_row.append(j * bins + upper_bin[j, i])\n",
    "    \n",
    "    x = sparse.coo_matrix((weights, (x_row, x_col)), shape=(len(alphas)*bins, im_size[0]*im_size[1])\\\n",
    "                                                    , dtype=np.float32)\n",
    "    return x\n",
    "    \n",
    "x = construct_x((10, 10), [-33, 0, 42], 15)\n",
    "x = x.toarray()\n",
    "plt.imshow(x)\n",
    "plt.show()\n",
    "example = np.load('hs_tomography/X_example.npy')\n",
    "plt.imshow(example)\n",
    "plt.show()\n",
    "print(x == example)\n",
    "\n",
    "false_zeros = 0\n",
    "must_be_zero = []\n",
    "for i in range(45):\n",
    "    for j in range(100):\n",
    "        if example[i, j] == 0 and x[i, j] != 0:\n",
    "            false_zeros += 1\n",
    "            must_be_zero.append([i, j, x[i,j]])\n",
    "            \n",
    "#print(false_zeros)\n",
    "#print(must_be_zero)\n",
    "\n",
    "pic = np.zeros((45, 100))\n",
    "for non_zero in must_be_zero:\n",
    "    pic[non_zero[0], non_zero[1]] = non_zero[2]\n",
    "plt.imshow(pic)\n",
    "plt.show()\n",
    "\n",
    "plt.imshow(x - example)\n",
    "plt.legend\n",
    "plt.show()"
   ]
  },
  {
   "cell_type": "code",
   "execution_count": 78,
   "metadata": {},
   "outputs": [
    {
     "data": {
      "text/plain": [
       "14.142135623730951"
      ]
     },
     "execution_count": 78,
     "metadata": {},
     "output_type": "execute_result"
    }
   ],
   "source": [
    "np.sqrt(2)*10"
   ]
  },
  {
   "cell_type": "code",
   "execution_count": null,
   "metadata": {},
   "outputs": [],
   "source": []
  }
 ],
 "metadata": {
  "kernelspec": {
   "display_name": "Python 2",
   "language": "python",
   "name": "python2"
  },
  "language_info": {
   "codemirror_mode": {
    "name": "ipython",
    "version": 2
   },
   "file_extension": ".py",
   "mimetype": "text/x-python",
   "name": "python",
   "nbconvert_exporter": "python",
   "pygments_lexer": "ipython2",
   "version": "2.7.6"
  }
 },
 "nbformat": 4,
 "nbformat_minor": 0
}
